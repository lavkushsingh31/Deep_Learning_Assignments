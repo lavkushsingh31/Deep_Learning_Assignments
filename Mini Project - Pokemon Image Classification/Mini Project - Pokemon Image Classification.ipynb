{
 "cells": [
  {
   "cell_type": "markdown",
   "id": "ee246167",
   "metadata": {},
   "source": [
    "# Pokemon Image Classification (3 class classification)"
   ]
  },
  {
   "cell_type": "markdown",
   "id": "ff657e21",
   "metadata": {},
   "source": [
    "Dataset Link - https://www.dropbox.com/sh/s9r1av3m4eatd3y/AAA8zYti5b5tnyKfcah2Reaja"
   ]
  },
  {
   "cell_type": "markdown",
   "id": "e8cacd2e",
   "metadata": {},
   "source": [
    "### Importing libraries"
   ]
  },
  {
   "cell_type": "code",
   "execution_count": 78,
   "id": "e6a0bd7a",
   "metadata": {},
   "outputs": [],
   "source": [
    "import numpy as np\n",
    "import matplotlib.pyplot as plt\n",
    "import os\n",
    "from tensorflow.keras.preprocessing import image\n",
    "from keras.utils import to_categorical\n",
    "from tensorflow.keras.models import Sequential\n",
    "from tensorflow.keras.layers import Dense"
   ]
  },
  {
   "cell_type": "markdown",
   "id": "156a5143",
   "metadata": {},
   "source": [
    "#### Getting the number of classes"
   ]
  },
  {
   "cell_type": "code",
   "execution_count": 2,
   "id": "d54c17ec",
   "metadata": {},
   "outputs": [
    {
     "data": {
      "text/plain": [
       "['Bulbasaur', 'Charmander', 'Pikachu']"
      ]
     },
     "execution_count": 2,
     "metadata": {},
     "output_type": "execute_result"
    }
   ],
   "source": [
    "classes = os.listdir('Datasets/images/Train/')\n",
    "classes"
   ]
  },
  {
   "cell_type": "code",
   "execution_count": 3,
   "id": "d4b0c5ac",
   "metadata": {},
   "outputs": [
    {
     "data": {
      "text/plain": [
       "['Bulbasaur', 'Charmander', 'Pikachu']"
      ]
     },
     "execution_count": 3,
     "metadata": {},
     "output_type": "execute_result"
    }
   ],
   "source": [
    "os.listdir('Datasets/images/Test/')"
   ]
  },
  {
   "cell_type": "markdown",
   "id": "c67a763f",
   "metadata": {},
   "source": [
    "#### Getting the number of images present in training and testing data (folders)"
   ]
  },
  {
   "cell_type": "code",
   "execution_count": 4,
   "id": "905d212e",
   "metadata": {},
   "outputs": [
    {
     "name": "stdout",
     "output_type": "stream",
     "text": [
      "Train Data: \n",
      "Class 'Bulbasaur' has: 101 images.\n",
      "Class 'Charmander' has: 102 images.\n",
      "Class 'Pikachu' has: 101 images.\n",
      "\n",
      "\n",
      "Test Data: \n",
      "Class 'Bulbasaur' has: 41 images.\n",
      "Class 'Charmander' has: 42 images.\n",
      "Class 'Pikachu' has: 40 images.\n",
      "\n",
      "\n"
     ]
    }
   ],
   "source": [
    "folders = ['Train', 'Test']\n",
    "for fol in folders:\n",
    "    print(f\"{fol} Data: \")\n",
    "    for cls in classes:\n",
    "        path = \"Datasets/images/\"+fol+\"/\"+cls\n",
    "        count = len(os.listdir(path))\n",
    "        print(f\"Class '{cls}' has: {count} images.\")\n",
    "    print(\"\\n\")"
   ]
  },
  {
   "cell_type": "markdown",
   "id": "057605d7",
   "metadata": {},
   "source": [
    "### Data Loading"
   ]
  },
  {
   "cell_type": "code",
   "execution_count": 10,
   "id": "48d4509f",
   "metadata": {},
   "outputs": [
    {
     "data": {
      "image/png": "[encoded data removed]",
      "text/plain": [
       "<PIL.Image.Image image mode=RGB size=100x100 at 0x1F3E90CBEB0>"
      ]
     },
     "execution_count": 10,
     "metadata": {},
     "output_type": "execute_result"
    }
   ],
   "source": [
    "path = \"Datasets/images/Train/Pikachu/296.jpg\"\n",
    "img = image.load_img(path, color_mode='rgb', target_size=(100,100))\n",
    "img"
   ]
  },
  {
   "cell_type": "code",
   "execution_count": 12,
   "id": "11ce25b9",
   "metadata": {},
   "outputs": [
    {
     "data": {
      "text/plain": [
       "(100, 100, 3)"
      ]
     },
     "execution_count": 12,
     "metadata": {},
     "output_type": "execute_result"
    }
   ],
   "source": [
    "path = \"Datasets/images/Train/Pikachu/296.jpg\"\n",
    "img = image.load_img(path, color_mode='rgb', target_size=(100,100))\n",
    "img = image.img_to_array(img)\n",
    "img.shape"
   ]
  },
  {
   "cell_type": "code",
   "execution_count": 30,
   "id": "4f626a74",
   "metadata": {},
   "outputs": [
    {
     "name": "stdout",
     "output_type": "stream",
     "text": [
      "Current Class: Bulbasaur\n",
      "Bulbasaur data appeneded in the list.\n",
      "Current Class: Charmander\n",
      "Charmander data appeneded in the list.\n",
      "Current Class: Pikachu\n",
      "Pikachu data appeneded in the list.\n"
     ]
    }
   ],
   "source": [
    "train_data = []   # similar to X\n",
    "train_labels = [] # similar to y\n",
    "\n",
    "for cls in classes:\n",
    "    \n",
    "    print(f\"Current Class: {cls}\")\n",
    "    path_fol = \"Datasets/images/Train/\"+cls\n",
    "    files = os.listdir(path_fol)\n",
    "    \n",
    "    for file in files:\n",
    "        path = path_fol+\"/\"+file\n",
    "        img = image.load_img(path, color_mode='rgb', target_size=(100,100))\n",
    "        img = image.img_to_array(img)\n",
    "        train_data.append(img)\n",
    "        train_labels.append(cls)\n",
    "    print(f\"{cls} data appeneded in the list.\")"
   ]
  },
  {
   "cell_type": "code",
   "execution_count": 31,
   "id": "c4cc2441",
   "metadata": {},
   "outputs": [
    {
     "data": {
      "text/plain": [
       "(304, 304)"
      ]
     },
     "execution_count": 31,
     "metadata": {},
     "output_type": "execute_result"
    }
   ],
   "source": [
    "len(train_data), len(train_labels)"
   ]
  },
  {
   "cell_type": "markdown",
   "id": "42483841",
   "metadata": {},
   "source": [
    "### Data Preprocessing"
   ]
  },
  {
   "cell_type": "code",
   "execution_count": 33,
   "id": "d2574728",
   "metadata": {},
   "outputs": [],
   "source": [
    "train_data = np.array(train_data)\n",
    "train_labels = np.array(train_labels)"
   ]
  },
  {
   "cell_type": "code",
   "execution_count": 34,
   "id": "7020dc62",
   "metadata": {},
   "outputs": [
    {
     "data": {
      "text/plain": [
       "((304, 100, 100, 3), (304,))"
      ]
     },
     "execution_count": 34,
     "metadata": {},
     "output_type": "execute_result"
    }
   ],
   "source": [
    "train_data.shape, train_labels.shape"
   ]
  },
  {
   "cell_type": "markdown",
   "id": "f28bfc35",
   "metadata": {},
   "source": [
    "#### Encoding the labels"
   ]
  },
  {
   "cell_type": "code",
   "execution_count": 54,
   "id": "06eeedf1",
   "metadata": {},
   "outputs": [
    {
     "data": {
      "text/plain": [
       "array(['Bulbasaur', 'Charmander', 'Pikachu'], dtype='<U10')"
      ]
     },
     "execution_count": 54,
     "metadata": {},
     "output_type": "execute_result"
    }
   ],
   "source": [
    "np.unique(train_labels)"
   ]
  },
  {
   "cell_type": "code",
   "execution_count": 49,
   "id": "b3bb9d53",
   "metadata": {},
   "outputs": [],
   "source": [
    "category2labels = {'Bulbasaur':0, 'Charmander':1, 'Pikachu':2}\n",
    "labels2category = {0:'Bulbasaur', 1:'Charmander', 2:'Pikachu'}"
   ]
  },
  {
   "cell_type": "code",
   "execution_count": 63,
   "id": "0fe6e703",
   "metadata": {},
   "outputs": [],
   "source": [
    "mapped_labels = np.array([category2labels[label] for label in train_labels])"
   ]
  },
  {
   "cell_type": "markdown",
   "id": "64df5f05",
   "metadata": {},
   "source": [
    "#### converting target into one-hot encoding"
   ]
  },
  {
   "cell_type": "code",
   "execution_count": 64,
   "id": "ffca4802",
   "metadata": {},
   "outputs": [],
   "source": [
    "mapped_labels = to_categorical(mapped_labels)"
   ]
  },
  {
   "cell_type": "markdown",
   "id": "34c74543",
   "metadata": {},
   "source": [
    "#### getting the data into X and y variables"
   ]
  },
  {
   "cell_type": "code",
   "execution_count": 65,
   "id": "2eddcf46",
   "metadata": {},
   "outputs": [],
   "source": [
    "X = train_data.reshape(train_data.shape[0], -1)\n",
    "y = mapped_labels"
   ]
  },
  {
   "cell_type": "code",
   "execution_count": 66,
   "id": "81e5856f",
   "metadata": {},
   "outputs": [
    {
     "data": {
      "text/plain": [
       "((304, 30000), (304, 3))"
      ]
     },
     "execution_count": 66,
     "metadata": {},
     "output_type": "execute_result"
    }
   ],
   "source": [
    "X.shape, y.shape"
   ]
  },
  {
   "cell_type": "code",
   "execution_count": 67,
   "id": "409670e6",
   "metadata": {},
   "outputs": [
    {
     "data": {
      "text/plain": [
       "array([[0., 0., 0., ..., 0., 0., 0.],\n",
       "       [0., 0., 0., ..., 0., 0., 0.],\n",
       "       [0., 0., 0., ..., 0., 0., 0.]], dtype=float32)"
      ]
     },
     "execution_count": 67,
     "metadata": {},
     "output_type": "execute_result"
    }
   ],
   "source": [
    "X[:3]"
   ]
  },
  {
   "cell_type": "code",
   "execution_count": 68,
   "id": "7b98f604",
   "metadata": {},
   "outputs": [
    {
     "data": {
      "text/plain": [
       "array([[1., 0., 0.],\n",
       "       [1., 0., 0.],\n",
       "       [1., 0., 0.]], dtype=float32)"
      ]
     },
     "execution_count": 68,
     "metadata": {},
     "output_type": "execute_result"
    }
   ],
   "source": [
    "y[:3]"
   ]
  },
  {
   "cell_type": "markdown",
   "id": "99d97ac8",
   "metadata": {},
   "source": [
    "### Model Building"
   ]
  },
  {
   "cell_type": "code",
   "execution_count": 72,
   "id": "b55d0ee4",
   "metadata": {},
   "outputs": [],
   "source": [
    "model = Sequential(name=\"Model_for_Pokemon_image_classification\")\n",
    "\n",
    "model.add(Dense(name = \"Dense_Layer_1\", units=512, activation='relu', input_shape=(X.shape[1],)))\n",
    "model.add(Dense(name = \"Dense_Layer_2\", units=256, activation='relu'))\n",
    "model.add(Dense(name = \"Dense_Layer_3\", units=128, activation='relu'))\n",
    "model.add(Dense(name = \"Dense_Layer_4\", units=64, activation='relu'))\n",
    "model.add(Dense(name = \"Output_Layer\", units=3, activation='softmax'))"
   ]
  },
  {
   "cell_type": "code",
   "execution_count": 76,
   "id": "07871c13",
   "metadata": {},
   "outputs": [
    {
     "name": "stdout",
     "output_type": "stream",
     "text": [
      "Model: \"Model_for_Pokemon_image_classification\"\n",
      "_________________________________________________________________\n",
      " Layer (type)                Output Shape              Param #   \n",
      "=================================================================\n",
      " Dense_Layer_1 (Dense)       (None, 512)               15360512  \n",
      "                                                                 \n",
      " Dense_Layer_2 (Dense)       (None, 256)               131328    \n",
      "                                                                 \n",
      " Dense_Layer_3 (Dense)       (None, 128)               32896     \n",
      "                                                                 \n",
      " Dense_Layer_4 (Dense)       (None, 64)                8256      \n",
      "                                                                 \n",
      " Output_Layer (Dense)        (None, 3)                 195       \n",
      "                                                                 \n",
      "=================================================================\n",
      "Total params: 15,533,187\n",
      "Trainable params: 15,533,187\n",
      "Non-trainable params: 0\n",
      "_________________________________________________________________\n"
     ]
    }
   ],
   "source": [
    "model.compile(optimizer='adam',\n",
    "              loss='categorical_crossentropy',\n",
    "              metrics='accuracy')\n",
    "model.summary()"
   ]
  },
  {
   "cell_type": "code",
   "execution_count": 77,
   "id": "7dd85dda",
   "metadata": {},
   "outputs": [
    {
     "name": "stdout",
     "output_type": "stream",
     "text": [
      "Epoch 1/100\n",
      "5/5 [==============================] - 7s 488ms/step - loss: 3325.3823 - accuracy: 0.3487\n",
      "Epoch 2/100\n",
      "5/5 [==============================] - 3s 537ms/step - loss: 1975.2015 - accuracy: 0.3388\n",
      "Epoch 3/100\n",
      "5/5 [==============================] - 4s 750ms/step - loss: 1551.6689 - accuracy: 0.4079\n",
      "Epoch 4/100\n",
      "5/5 [==============================] - 4s 743ms/step - loss: 1193.9966 - accuracy: 0.3651\n",
      "Epoch 5/100\n",
      "5/5 [==============================] - 3s 658ms/step - loss: 1040.5240 - accuracy: 0.4408\n",
      "Epoch 6/100\n",
      "5/5 [==============================] - 4s 732ms/step - loss: 1056.2755 - accuracy: 0.4836\n",
      "Epoch 7/100\n",
      "5/5 [==============================] - 3s 497ms/step - loss: 601.3665 - accuracy: 0.5099\n",
      "Epoch 8/100\n",
      "5/5 [==============================] - 2s 354ms/step - loss: 612.6563 - accuracy: 0.5296\n",
      "Epoch 9/100\n",
      "5/5 [==============================] - 2s 379ms/step - loss: 498.0720 - accuracy: 0.6316\n",
      "Epoch 10/100\n",
      "5/5 [==============================] - 2s 357ms/step - loss: 321.8163 - accuracy: 0.7303\n",
      "Epoch 11/100\n",
      "5/5 [==============================] - 4s 857ms/step - loss: 192.8735 - accuracy: 0.6513\n",
      "Epoch 12/100\n",
      "5/5 [==============================] - 4s 706ms/step - loss: 171.6297 - accuracy: 0.7270\n",
      "Epoch 13/100\n",
      "5/5 [==============================] - 4s 902ms/step - loss: 85.4588 - accuracy: 0.8224\n",
      "Epoch 14/100\n",
      "5/5 [==============================] - 4s 717ms/step - loss: 73.9054 - accuracy: 0.7895\n",
      "Epoch 15/100\n",
      "5/5 [==============================] - 4s 746ms/step - loss: 64.4970 - accuracy: 0.8355\n",
      "Epoch 16/100\n",
      "5/5 [==============================] - 4s 777ms/step - loss: 27.2476 - accuracy: 0.9079\n",
      "Epoch 17/100\n",
      "5/5 [==============================] - 3s 684ms/step - loss: 19.1741 - accuracy: 0.9276\n",
      "Epoch 18/100\n",
      "5/5 [==============================] - 4s 820ms/step - loss: 27.5582 - accuracy: 0.9178\n",
      "Epoch 19/100\n",
      "5/5 [==============================] - 4s 690ms/step - loss: 24.1883 - accuracy: 0.9013\n",
      "Epoch 20/100\n",
      "5/5 [==============================] - 5s 964ms/step - loss: 24.5613 - accuracy: 0.9046\n",
      "Epoch 21/100\n",
      "5/5 [==============================] - 4s 757ms/step - loss: 22.0980 - accuracy: 0.9046\n",
      "Epoch 22/100\n",
      "5/5 [==============================] - 3s 679ms/step - loss: 45.8653 - accuracy: 0.8454\n",
      "Epoch 23/100\n",
      "5/5 [==============================] - 4s 817ms/step - loss: 45.7185 - accuracy: 0.8618\n",
      "Epoch 24/100\n",
      "5/5 [==============================] - 3s 554ms/step - loss: 23.3593 - accuracy: 0.9178\n",
      "Epoch 25/100\n",
      "5/5 [==============================] - 3s 529ms/step - loss: 30.1814 - accuracy: 0.8750\n",
      "Epoch 26/100\n",
      "5/5 [==============================] - 3s 663ms/step - loss: 30.2150 - accuracy: 0.9046\n",
      "Epoch 27/100\n",
      "5/5 [==============================] - 3s 539ms/step - loss: 21.9872 - accuracy: 0.9112\n",
      "Epoch 28/100\n",
      "5/5 [==============================] - 2s 484ms/step - loss: 13.1242 - accuracy: 0.9309\n",
      "Epoch 29/100\n",
      "5/5 [==============================] - 2s 477ms/step - loss: 11.1543 - accuracy: 0.9474\n",
      "Epoch 30/100\n",
      "5/5 [==============================] - 3s 594ms/step - loss: 5.9180 - accuracy: 0.9704\n",
      "Epoch 31/100\n",
      "5/5 [==============================] - 3s 481ms/step - loss: 6.2713 - accuracy: 0.9474\n",
      "Epoch 32/100\n",
      "5/5 [==============================] - 2s 310ms/step - loss: 14.4424 - accuracy: 0.9375\n",
      "Epoch 33/100\n",
      "5/5 [==============================] - 2s 299ms/step - loss: 3.4688 - accuracy: 0.9737\n",
      "Epoch 34/100\n",
      "5/5 [==============================] - 1s 290ms/step - loss: 3.1392 - accuracy: 0.9704\n",
      "Epoch 35/100\n",
      "5/5 [==============================] - 1s 288ms/step - loss: 4.3247 - accuracy: 0.9737\n",
      "Epoch 36/100\n",
      "5/5 [==============================] - 1s 290ms/step - loss: 2.7566 - accuracy: 0.9836\n",
      "Epoch 37/100\n",
      "5/5 [==============================] - 1s 293ms/step - loss: 2.2557 - accuracy: 0.9836\n",
      "Epoch 38/100\n",
      "5/5 [==============================] - 3s 422ms/step - loss: 0.4106 - accuracy: 0.9901\n",
      "Epoch 39/100\n",
      "5/5 [==============================] - 2s 301ms/step - loss: 1.5367 - accuracy: 0.9868\n",
      "Epoch 40/100\n",
      "5/5 [==============================] - 2s 304ms/step - loss: 0.4420 - accuracy: 0.9934\n",
      "Epoch 41/100\n",
      "5/5 [==============================] - 2s 303ms/step - loss: 0.7006 - accuracy: 0.9934\n",
      "Epoch 42/100\n",
      "5/5 [==============================] - 2s 305ms/step - loss: 2.1341 - accuracy: 0.9737\n",
      "Epoch 43/100\n",
      "5/5 [==============================] - 2s 307ms/step - loss: 0.8478 - accuracy: 0.9836\n",
      "Epoch 44/100\n",
      "5/5 [==============================] - 2s 303ms/step - loss: 0.9154 - accuracy: 0.9934\n",
      "Epoch 45/100\n",
      "5/5 [==============================] - 2s 377ms/step - loss: 0.5451 - accuracy: 0.9901\n",
      "Epoch 46/100\n",
      "5/5 [==============================] - 2s 367ms/step - loss: 0.6855 - accuracy: 0.9934\n",
      "Epoch 47/100\n",
      "5/5 [==============================] - 2s 318ms/step - loss: 0.0000e+00 - accuracy: 1.0000\n",
      "Epoch 48/100\n",
      "5/5 [==============================] - 2s 319ms/step - loss: 0.2633 - accuracy: 0.9901\n",
      "Epoch 49/100\n",
      "5/5 [==============================] - 2s 320ms/step - loss: 1.6766 - accuracy: 0.9803\n",
      "Epoch 50/100\n",
      "5/5 [==============================] - 1s 293ms/step - loss: 2.4948 - accuracy: 0.9671\n",
      "Epoch 51/100\n",
      "5/5 [==============================] - 2s 398ms/step - loss: 14.9367 - accuracy: 0.9276\n",
      "Epoch 52/100\n",
      "5/5 [==============================] - 3s 550ms/step - loss: 33.2488 - accuracy: 0.9079\n",
      "Epoch 53/100\n",
      "5/5 [==============================] - 4s 807ms/step - loss: 10.9952 - accuracy: 0.9474\n",
      "Epoch 54/100\n",
      "5/5 [==============================] - 2s 386ms/step - loss: 41.9548 - accuracy: 0.8487\n",
      "Epoch 55/100\n",
      "5/5 [==============================] - 2s 538ms/step - loss: 14.8025 - accuracy: 0.9211\n",
      "Epoch 56/100\n",
      "5/5 [==============================] - 3s 434ms/step - loss: 6.4848 - accuracy: 0.9408\n",
      "Epoch 57/100\n",
      "5/5 [==============================] - 2s 299ms/step - loss: 9.4736 - accuracy: 0.9408\n",
      "Epoch 58/100\n",
      "5/5 [==============================] - 2s 298ms/step - loss: 13.4487 - accuracy: 0.9178\n",
      "Epoch 59/100\n",
      "5/5 [==============================] - 2s 485ms/step - loss: 1.8303 - accuracy: 0.9770\n",
      "Epoch 60/100\n",
      "5/5 [==============================] - 2s 307ms/step - loss: 1.2706 - accuracy: 0.9836\n",
      "Epoch 61/100\n",
      "5/5 [==============================] - 1s 296ms/step - loss: 1.2444 - accuracy: 0.9901\n",
      "Epoch 62/100\n",
      "5/5 [==============================] - 2s 310ms/step - loss: 0.3704 - accuracy: 0.9901\n",
      "Epoch 63/100\n",
      "5/5 [==============================] - 1s 289ms/step - loss: 3.8722 - accuracy: 0.9638\n",
      "Epoch 64/100\n",
      "5/5 [==============================] - 1s 287ms/step - loss: 51.0650 - accuracy: 0.8750\n",
      "Epoch 65/100\n",
      "5/5 [==============================] - 1s 297ms/step - loss: 12.1356 - accuracy: 0.9474\n",
      "Epoch 66/100\n",
      "5/5 [==============================] - 1s 291ms/step - loss: 14.5373 - accuracy: 0.9276\n",
      "Epoch 67/100\n",
      "5/5 [==============================] - 1s 280ms/step - loss: 14.4432 - accuracy: 0.9309\n",
      "Epoch 68/100\n",
      "5/5 [==============================] - 2s 285ms/step - loss: 6.0209 - accuracy: 0.9441\n",
      "Epoch 69/100\n",
      "5/5 [==============================] - 1s 292ms/step - loss: 15.0454 - accuracy: 0.9276\n",
      "Epoch 70/100\n",
      "5/5 [==============================] - 1s 281ms/step - loss: 13.3753 - accuracy: 0.9309\n",
      "Epoch 71/100\n",
      "5/5 [==============================] - 1s 286ms/step - loss: 7.5018 - accuracy: 0.9539\n",
      "Epoch 72/100\n",
      "5/5 [==============================] - 1s 281ms/step - loss: 1.8967 - accuracy: 0.9901\n",
      "Epoch 73/100\n",
      "5/5 [==============================] - 1s 288ms/step - loss: 1.1892 - accuracy: 0.9901\n",
      "Epoch 74/100\n",
      "5/5 [==============================] - 1s 281ms/step - loss: 0.9355 - accuracy: 0.9868\n",
      "Epoch 75/100\n",
      "5/5 [==============================] - 1s 284ms/step - loss: 1.7318 - accuracy: 0.9868\n",
      "Epoch 76/100\n",
      "5/5 [==============================] - 1s 282ms/step - loss: 0.0000e+00 - accuracy: 1.0000\n",
      "Epoch 77/100\n",
      "5/5 [==============================] - 1s 280ms/step - loss: 0.2624 - accuracy: 0.9901\n",
      "Epoch 78/100\n",
      "5/5 [==============================] - 1s 281ms/step - loss: 1.2673 - accuracy: 0.9934\n",
      "Epoch 79/100\n",
      "5/5 [==============================] - 1s 282ms/step - loss: 0.2360 - accuracy: 0.9967\n",
      "Epoch 80/100\n",
      "5/5 [==============================] - 1s 285ms/step - loss: 0.0365 - accuracy: 0.9934\n",
      "Epoch 81/100\n",
      "5/5 [==============================] - 2s 312ms/step - loss: 0.0000e+00 - accuracy: 1.0000\n",
      "Epoch 82/100\n"
     ]
    },
    {
     "name": "stdout",
     "output_type": "stream",
     "text": [
      "5/5 [==============================] - 1s 289ms/step - loss: 0.0000e+00 - accuracy: 1.0000\n",
      "Epoch 83/100\n",
      "5/5 [==============================] - 2s 304ms/step - loss: 0.0000e+00 - accuracy: 1.0000\n",
      "Epoch 84/100\n",
      "5/5 [==============================] - 2s 530ms/step - loss: 0.0000e+00 - accuracy: 1.0000\n",
      "Epoch 85/100\n",
      "5/5 [==============================] - 3s 500ms/step - loss: 0.0000e+00 - accuracy: 1.0000\n",
      "Epoch 86/100\n",
      "5/5 [==============================] - 2s 387ms/step - loss: 0.0000e+00 - accuracy: 1.0000\n",
      "Epoch 87/100\n",
      "5/5 [==============================] - 2s 332ms/step - loss: 0.0000e+00 - accuracy: 1.0000\n",
      "Epoch 88/100\n",
      "5/5 [==============================] - 2s 341ms/step - loss: 0.0000e+00 - accuracy: 1.0000\n",
      "Epoch 89/100\n",
      "5/5 [==============================] - 2s 333ms/step - loss: 0.0000e+00 - accuracy: 1.0000\n",
      "Epoch 90/100\n",
      "5/5 [==============================] - 2s 328ms/step - loss: 0.0000e+00 - accuracy: 1.0000\n",
      "Epoch 91/100\n",
      "5/5 [==============================] - 2s 324ms/step - loss: 0.0000e+00 - accuracy: 1.0000\n",
      "Epoch 92/100\n",
      "5/5 [==============================] - 2s 318ms/step - loss: 0.0000e+00 - accuracy: 1.0000\n",
      "Epoch 93/100\n",
      "5/5 [==============================] - 2s 323ms/step - loss: 0.0000e+00 - accuracy: 1.0000\n",
      "Epoch 94/100\n",
      "5/5 [==============================] - 2s 375ms/step - loss: 0.0000e+00 - accuracy: 1.0000\n",
      "Epoch 95/100\n",
      "5/5 [==============================] - 2s 374ms/step - loss: 0.0000e+00 - accuracy: 1.0000\n",
      "Epoch 96/100\n",
      "5/5 [==============================] - 2s 355ms/step - loss: 0.0000e+00 - accuracy: 1.0000\n",
      "Epoch 97/100\n",
      "5/5 [==============================] - 2s 368ms/step - loss: 0.0000e+00 - accuracy: 1.0000\n",
      "Epoch 98/100\n",
      "5/5 [==============================] - 2s 323ms/step - loss: 0.0000e+00 - accuracy: 1.0000\n",
      "Epoch 99/100\n",
      "5/5 [==============================] - 2s 337ms/step - loss: 0.0000e+00 - accuracy: 1.0000\n",
      "Epoch 100/100\n",
      "5/5 [==============================] - 2s 343ms/step - loss: 0.0000e+00 - accuracy: 1.0000\n"
     ]
    },
    {
     "data": {
      "text/plain": [
       "<keras.callbacks.History at 0x1f3ea5879a0>"
      ]
     },
     "execution_count": 77,
     "metadata": {},
     "output_type": "execute_result"
    }
   ],
   "source": [
    "model.fit(X,y, batch_size=64, epochs=100)"
   ]
  },
  {
   "cell_type": "markdown",
   "id": "cbdab0db",
   "metadata": {},
   "source": [
    "### Model Evaluation"
   ]
  },
  {
   "cell_type": "markdown",
   "id": "22b6600a",
   "metadata": {},
   "source": [
    "#### getting test data"
   ]
  },
  {
   "cell_type": "code",
   "execution_count": 79,
   "id": "796822e7",
   "metadata": {},
   "outputs": [
    {
     "name": "stdout",
     "output_type": "stream",
     "text": [
      "Current Class: Bulbasaur\n",
      "Bulbasaur data appeneded in the list.\n",
      "Current Class: Charmander\n",
      "Charmander data appeneded in the list.\n",
      "Current Class: Pikachu\n",
      "Pikachu data appeneded in the list.\n"
     ]
    }
   ],
   "source": [
    "test_data = []   # similar to X\n",
    "test_labels = [] # similar to y\n",
    "\n",
    "for cls in classes:\n",
    "    \n",
    "    print(f\"Current Class: {cls}\")\n",
    "    path_fol = \"Datasets/images/Test/\"+cls\n",
    "    files = os.listdir(path_fol)\n",
    "    \n",
    "    for file in files:\n",
    "        path = path_fol+\"/\"+file\n",
    "        img = image.load_img(path, color_mode='rgb', target_size=(100,100))\n",
    "        img = image.img_to_array(img)\n",
    "        test_data.append(img)\n",
    "        test_labels.append(cls)\n",
    "    print(f\"{cls} data appeneded in the list.\")"
   ]
  },
  {
   "cell_type": "code",
   "execution_count": 80,
   "id": "6b2810fe",
   "metadata": {},
   "outputs": [
    {
     "data": {
      "text/plain": [
       "(123, 123)"
      ]
     },
     "execution_count": 80,
     "metadata": {},
     "output_type": "execute_result"
    }
   ],
   "source": [
    "len(test_data), len(test_labels)"
   ]
  },
  {
   "cell_type": "code",
   "execution_count": 81,
   "id": "540e04d9",
   "metadata": {},
   "outputs": [],
   "source": [
    "test_data = np.array(test_data)\n",
    "test_labels = np.array(test_labels)"
   ]
  },
  {
   "cell_type": "markdown",
   "id": "fdbd03e8",
   "metadata": {},
   "source": [
    "#### Encoding the labels"
   ]
  },
  {
   "cell_type": "code",
   "execution_count": 90,
   "id": "3b96ad76",
   "metadata": {},
   "outputs": [
    {
     "data": {
      "text/plain": [
       "array(['Bulbasaur', 'Charmander', 'Pikachu'], dtype='<U10')"
      ]
     },
     "execution_count": 90,
     "metadata": {},
     "output_type": "execute_result"
    }
   ],
   "source": [
    "np.unique(test_labels)"
   ]
  },
  {
   "cell_type": "code",
   "execution_count": 91,
   "id": "7a18561f",
   "metadata": {},
   "outputs": [],
   "source": [
    "mapped_labels = np.array([category2labels[label] for label in test_labels])"
   ]
  },
  {
   "cell_type": "markdown",
   "id": "f6ff8002",
   "metadata": {},
   "source": [
    "#### converting target into one-hot encoding"
   ]
  },
  {
   "cell_type": "code",
   "execution_count": 92,
   "id": "9c323fa9",
   "metadata": {},
   "outputs": [
    {
     "data": {
      "text/plain": [
       "array([[1., 0., 0.],\n",
       "       [1., 0., 0.],\n",
       "       [1., 0., 0.]], dtype=float32)"
      ]
     },
     "execution_count": 92,
     "metadata": {},
     "output_type": "execute_result"
    }
   ],
   "source": [
    "mapped_labels = to_categorical(mapped_labels)\n",
    "mapped_labels[:3]"
   ]
  },
  {
   "cell_type": "code",
   "execution_count": 96,
   "id": "795c5477",
   "metadata": {},
   "outputs": [],
   "source": [
    "X_test = test_data.reshape(test_data.shape[0],-1)\n",
    "y_test = mapped_labels"
   ]
  },
  {
   "cell_type": "code",
   "execution_count": 97,
   "id": "1d8890a1",
   "metadata": {},
   "outputs": [
    {
     "data": {
      "text/plain": [
       "((123, 30000), (123, 3))"
      ]
     },
     "execution_count": 97,
     "metadata": {},
     "output_type": "execute_result"
    }
   ],
   "source": [
    "X_test.shape, y_test.shape"
   ]
  },
  {
   "cell_type": "code",
   "execution_count": 99,
   "id": "d3841347",
   "metadata": {},
   "outputs": [
    {
     "name": "stdout",
     "output_type": "stream",
     "text": [
      "4/4 [==============================] - 0s 84ms/step - loss: 13.6125 - accuracy: 0.9756\n"
     ]
    }
   ],
   "source": [
    "loss, accuracy = model.evaluate(X_test, y_test)"
   ]
  },
  {
   "cell_type": "code",
   "execution_count": 102,
   "id": "6fe92c02",
   "metadata": {},
   "outputs": [
    {
     "name": "stdout",
     "output_type": "stream",
     "text": [
      "Loss: 13.612489700317383\n",
      "Accuracy: 97.56%\n"
     ]
    }
   ],
   "source": [
    "print(f\"Loss: {loss}\")\n",
    "print(f\"Accuracy: {round(accuracy*100,2)}%\")"
   ]
  },
  {
   "cell_type": "code",
   "execution_count": 104,
   "id": "aa7ae691",
   "metadata": {},
   "outputs": [
    {
     "name": "stdout",
     "output_type": "stream",
     "text": [
      "4/4 [==============================] - 0s 79ms/step\n"
     ]
    },
    {
     "data": {
      "text/plain": [
       "array([[9.9999994e-01, 0.0000000e+00, 0.0000000e+00],\n",
       "       [9.9999994e-01, 0.0000000e+00, 0.0000000e+00],\n",
       "       [9.9999994e-01, 0.0000000e+00, 0.0000000e+00],\n",
       "       [9.9999994e-01, 0.0000000e+00, 0.0000000e+00],\n",
       "       [9.9999994e-01, 0.0000000e+00, 0.0000000e+00],\n",
       "       [9.9999994e-01, 0.0000000e+00, 0.0000000e+00],\n",
       "       [9.9999994e-01, 0.0000000e+00, 0.0000000e+00],\n",
       "       [9.9999994e-01, 0.0000000e+00, 0.0000000e+00],\n",
       "       [9.9999994e-01, 0.0000000e+00, 0.0000000e+00],\n",
       "       [9.9999994e-01, 0.0000000e+00, 0.0000000e+00],\n",
       "       [9.9999994e-01, 0.0000000e+00, 0.0000000e+00],\n",
       "       [9.9999994e-01, 0.0000000e+00, 0.0000000e+00],\n",
       "       [9.9999994e-01, 0.0000000e+00, 0.0000000e+00],\n",
       "       [9.9999994e-01, 0.0000000e+00, 0.0000000e+00],\n",
       "       [9.9999994e-01, 0.0000000e+00, 0.0000000e+00],\n",
       "       [9.9999994e-01, 0.0000000e+00, 0.0000000e+00],\n",
       "       [9.9999994e-01, 0.0000000e+00, 0.0000000e+00],\n",
       "       [9.9999994e-01, 0.0000000e+00, 0.0000000e+00],\n",
       "       [9.9999994e-01, 0.0000000e+00, 0.0000000e+00],\n",
       "       [9.9999994e-01, 0.0000000e+00, 0.0000000e+00],\n",
       "       [9.9999994e-01, 0.0000000e+00, 0.0000000e+00],\n",
       "       [9.9999994e-01, 0.0000000e+00, 0.0000000e+00],\n",
       "       [9.9999994e-01, 0.0000000e+00, 0.0000000e+00],\n",
       "       [9.9999994e-01, 0.0000000e+00, 0.0000000e+00],\n",
       "       [9.9999994e-01, 0.0000000e+00, 0.0000000e+00],\n",
       "       [9.9999994e-01, 0.0000000e+00, 0.0000000e+00],\n",
       "       [9.9999994e-01, 0.0000000e+00, 0.0000000e+00],\n",
       "       [9.9999994e-01, 0.0000000e+00, 0.0000000e+00],\n",
       "       [9.9999994e-01, 0.0000000e+00, 0.0000000e+00],\n",
       "       [9.9999994e-01, 0.0000000e+00, 0.0000000e+00],\n",
       "       [9.9999994e-01, 0.0000000e+00, 0.0000000e+00],\n",
       "       [9.9999994e-01, 0.0000000e+00, 0.0000000e+00],\n",
       "       [9.9999994e-01, 0.0000000e+00, 0.0000000e+00],\n",
       "       [9.9999994e-01, 0.0000000e+00, 0.0000000e+00],\n",
       "       [9.9999994e-01, 0.0000000e+00, 0.0000000e+00],\n",
       "       [9.9999994e-01, 0.0000000e+00, 0.0000000e+00],\n",
       "       [9.9999994e-01, 0.0000000e+00, 0.0000000e+00],\n",
       "       [9.9999994e-01, 0.0000000e+00, 0.0000000e+00],\n",
       "       [9.9999994e-01, 0.0000000e+00, 0.0000000e+00],\n",
       "       [9.9999994e-01, 0.0000000e+00, 0.0000000e+00],\n",
       "       [9.9999994e-01, 0.0000000e+00, 0.0000000e+00],\n",
       "       [0.0000000e+00, 0.0000000e+00, 9.9999994e-01],\n",
       "       [0.0000000e+00, 9.9999994e-01, 0.0000000e+00],\n",
       "       [0.0000000e+00, 9.9999994e-01, 0.0000000e+00],\n",
       "       [0.0000000e+00, 9.9999994e-01, 0.0000000e+00],\n",
       "       [0.0000000e+00, 9.9999994e-01, 0.0000000e+00],\n",
       "       [0.0000000e+00, 9.9999994e-01, 0.0000000e+00],\n",
       "       [0.0000000e+00, 9.9999994e-01, 0.0000000e+00],\n",
       "       [0.0000000e+00, 9.9999994e-01, 0.0000000e+00],\n",
       "       [0.0000000e+00, 9.9999994e-01, 0.0000000e+00],\n",
       "       [0.0000000e+00, 9.9999994e-01, 0.0000000e+00],\n",
       "       [0.0000000e+00, 9.9999994e-01, 0.0000000e+00],\n",
       "       [0.0000000e+00, 9.9999994e-01, 0.0000000e+00],\n",
       "       [0.0000000e+00, 9.9999994e-01, 0.0000000e+00],\n",
       "       [0.0000000e+00, 9.9999994e-01, 0.0000000e+00],\n",
       "       [0.0000000e+00, 9.9999994e-01, 0.0000000e+00],\n",
       "       [0.0000000e+00, 9.9999994e-01, 0.0000000e+00],\n",
       "       [0.0000000e+00, 9.9999994e-01, 0.0000000e+00],\n",
       "       [0.0000000e+00, 9.9999994e-01, 0.0000000e+00],\n",
       "       [0.0000000e+00, 9.9999994e-01, 0.0000000e+00],\n",
       "       [0.0000000e+00, 9.9999994e-01, 0.0000000e+00],\n",
       "       [0.0000000e+00, 9.9999994e-01, 0.0000000e+00],\n",
       "       [0.0000000e+00, 9.9999994e-01, 0.0000000e+00],\n",
       "       [0.0000000e+00, 9.9999994e-01, 0.0000000e+00],\n",
       "       [0.0000000e+00, 9.9999994e-01, 0.0000000e+00],\n",
       "       [0.0000000e+00, 9.9999994e-01, 0.0000000e+00],\n",
       "       [0.0000000e+00, 9.9999994e-01, 0.0000000e+00],\n",
       "       [0.0000000e+00, 9.9999994e-01, 0.0000000e+00],\n",
       "       [0.0000000e+00, 9.9999994e-01, 0.0000000e+00],\n",
       "       [0.0000000e+00, 9.9999994e-01, 0.0000000e+00],\n",
       "       [0.0000000e+00, 9.9999994e-01, 0.0000000e+00],\n",
       "       [0.0000000e+00, 9.9999994e-01, 0.0000000e+00],\n",
       "       [0.0000000e+00, 9.9999994e-01, 0.0000000e+00],\n",
       "       [9.9999994e-01, 0.0000000e+00, 0.0000000e+00],\n",
       "       [0.0000000e+00, 9.9999994e-01, 0.0000000e+00],\n",
       "       [0.0000000e+00, 9.9999994e-01, 0.0000000e+00],\n",
       "       [0.0000000e+00, 9.9999994e-01, 0.0000000e+00],\n",
       "       [0.0000000e+00, 9.9999994e-01, 0.0000000e+00],\n",
       "       [0.0000000e+00, 9.9999994e-01, 0.0000000e+00],\n",
       "       [0.0000000e+00, 9.9999994e-01, 0.0000000e+00],\n",
       "       [0.0000000e+00, 9.9999994e-01, 0.0000000e+00],\n",
       "       [0.0000000e+00, 9.9999994e-01, 0.0000000e+00],\n",
       "       [0.0000000e+00, 9.9999994e-01, 0.0000000e+00],\n",
       "       [0.0000000e+00, 0.0000000e+00, 9.9999994e-01],\n",
       "       [0.0000000e+00, 0.0000000e+00, 9.9999994e-01],\n",
       "       [0.0000000e+00, 0.0000000e+00, 9.9999994e-01],\n",
       "       [0.0000000e+00, 0.0000000e+00, 9.9999994e-01],\n",
       "       [0.0000000e+00, 0.0000000e+00, 9.9999994e-01],\n",
       "       [0.0000000e+00, 0.0000000e+00, 9.9999994e-01],\n",
       "       [0.0000000e+00, 0.0000000e+00, 9.9999994e-01],\n",
       "       [0.0000000e+00, 0.0000000e+00, 9.9999994e-01],\n",
       "       [0.0000000e+00, 0.0000000e+00, 9.9999994e-01],\n",
       "       [9.9999994e-01, 0.0000000e+00, 0.0000000e+00],\n",
       "       [0.0000000e+00, 0.0000000e+00, 9.9999994e-01],\n",
       "       [0.0000000e+00, 0.0000000e+00, 9.9999994e-01],\n",
       "       [0.0000000e+00, 0.0000000e+00, 9.9999994e-01],\n",
       "       [0.0000000e+00, 0.0000000e+00, 9.9999994e-01],\n",
       "       [0.0000000e+00, 0.0000000e+00, 9.9999994e-01],\n",
       "       [0.0000000e+00, 0.0000000e+00, 9.9999994e-01],\n",
       "       [0.0000000e+00, 0.0000000e+00, 9.9999994e-01],\n",
       "       [0.0000000e+00, 0.0000000e+00, 9.9999994e-01],\n",
       "       [0.0000000e+00, 0.0000000e+00, 9.9999994e-01],\n",
       "       [0.0000000e+00, 5.6606914e-17, 9.9999994e-01],\n",
       "       [0.0000000e+00, 0.0000000e+00, 9.9999994e-01],\n",
       "       [0.0000000e+00, 0.0000000e+00, 9.9999994e-01],\n",
       "       [0.0000000e+00, 0.0000000e+00, 9.9999994e-01],\n",
       "       [0.0000000e+00, 0.0000000e+00, 9.9999994e-01],\n",
       "       [0.0000000e+00, 0.0000000e+00, 9.9999994e-01],\n",
       "       [0.0000000e+00, 2.9502177e-04, 9.9970484e-01],\n",
       "       [0.0000000e+00, 0.0000000e+00, 9.9999994e-01],\n",
       "       [0.0000000e+00, 0.0000000e+00, 9.9999994e-01],\n",
       "       [0.0000000e+00, 0.0000000e+00, 9.9999994e-01],\n",
       "       [0.0000000e+00, 0.0000000e+00, 9.9999994e-01],\n",
       "       [0.0000000e+00, 0.0000000e+00, 9.9999994e-01],\n",
       "       [0.0000000e+00, 0.0000000e+00, 9.9999994e-01],\n",
       "       [0.0000000e+00, 0.0000000e+00, 9.9999994e-01],\n",
       "       [0.0000000e+00, 0.0000000e+00, 9.9999994e-01],\n",
       "       [0.0000000e+00, 0.0000000e+00, 9.9999994e-01],\n",
       "       [0.0000000e+00, 0.0000000e+00, 9.9999994e-01],\n",
       "       [0.0000000e+00, 0.0000000e+00, 9.9999994e-01],\n",
       "       [0.0000000e+00, 0.0000000e+00, 1.0000000e+00],\n",
       "       [0.0000000e+00, 0.0000000e+00, 1.0000000e+00],\n",
       "       [0.0000000e+00, 0.0000000e+00, 1.0000000e+00]], dtype=float32)"
      ]
     },
     "execution_count": 104,
     "metadata": {},
     "output_type": "execute_result"
    }
   ],
   "source": [
    "y_pred_test = model.predict(X_test)\n",
    "y_pred_test"
   ]
  },
  {
   "cell_type": "code",
   "execution_count": 106,
   "id": "3ca02d1a",
   "metadata": {},
   "outputs": [
    {
     "name": "stdout",
     "output_type": "stream",
     "text": [
      "4/4 [==============================] - 0s 81ms/step\n"
     ]
    },
    {
     "data": {
      "text/plain": [
       "array([0, 0, 0, 0, 0, 0, 0, 0, 0, 0], dtype=int64)"
      ]
     },
     "execution_count": 106,
     "metadata": {},
     "output_type": "execute_result"
    }
   ],
   "source": [
    "y_pred_test = model.predict(X_test).argmax(axis=1)\n",
    "y_pred_test[:10]"
   ]
  },
  {
   "cell_type": "code",
   "execution_count": 108,
   "id": "13817151",
   "metadata": {},
   "outputs": [
    {
     "data": {
      "text/plain": [
       "['Bulbasaur',\n",
       " 'Bulbasaur',\n",
       " 'Bulbasaur',\n",
       " 'Bulbasaur',\n",
       " 'Bulbasaur',\n",
       " 'Bulbasaur',\n",
       " 'Bulbasaur',\n",
       " 'Bulbasaur',\n",
       " 'Bulbasaur',\n",
       " 'Bulbasaur']"
      ]
     },
     "execution_count": 108,
     "metadata": {},
     "output_type": "execute_result"
    }
   ],
   "source": [
    "y_pred_test_category = [labels2category[p] for p in y_pred_test]\n",
    "y_pred_test_category[:10]"
   ]
  },
  {
   "cell_type": "markdown",
   "id": "466540da",
   "metadata": {},
   "source": [
    "#### predicting for 1 datapoint(image)"
   ]
  },
  {
   "cell_type": "code",
   "execution_count": 109,
   "id": "31483fb0",
   "metadata": {},
   "outputs": [
    {
     "data": {
      "image/png": "[encoded data removed]",
      "text/plain": [
       "<PIL.Image.Image image mode=RGB size=100x100 at 0x1F39922E0A0>"
      ]
     },
     "execution_count": 109,
     "metadata": {},
     "output_type": "execute_result"
    }
   ],
   "source": [
    "path = \"Datasets/images/Test/Pikachu/2024.jpg\"\n",
    "img = image.load_img(path, color_mode='rgb', target_size=(100,100))\n",
    "img"
   ]
  },
  {
   "cell_type": "code",
   "execution_count": 110,
   "id": "9dd9beeb",
   "metadata": {},
   "outputs": [
    {
     "data": {
      "text/plain": [
       "(100, 100, 3)"
      ]
     },
     "execution_count": 110,
     "metadata": {},
     "output_type": "execute_result"
    }
   ],
   "source": [
    "img = image.img_to_array(img)\n",
    "img.shape"
   ]
  },
  {
   "cell_type": "code",
   "execution_count": 112,
   "id": "43f3bee2",
   "metadata": {},
   "outputs": [
    {
     "data": {
      "text/plain": [
       "(1, 30000)"
      ]
     },
     "execution_count": 112,
     "metadata": {},
     "output_type": "execute_result"
    }
   ],
   "source": [
    "img = img.reshape(1,-1)\n",
    "img.shape"
   ]
  },
  {
   "cell_type": "code",
   "execution_count": 116,
   "id": "17a2f1b7",
   "metadata": {},
   "outputs": [
    {
     "name": "stdout",
     "output_type": "stream",
     "text": [
      "1/1 [==============================] - 0s 71ms/step\n"
     ]
    },
    {
     "data": {
      "text/plain": [
       "2"
      ]
     },
     "execution_count": 116,
     "metadata": {},
     "output_type": "execute_result"
    }
   ],
   "source": [
    "pred = model.predict(img).argmax()\n",
    "pred"
   ]
  },
  {
   "cell_type": "code",
   "execution_count": 117,
   "id": "8b700757",
   "metadata": {},
   "outputs": [
    {
     "data": {
      "text/plain": [
       "'Pikachu'"
      ]
     },
     "execution_count": 117,
     "metadata": {},
     "output_type": "execute_result"
    }
   ],
   "source": [
    "labels2category[pred]"
   ]
  },
  {
   "cell_type": "markdown",
   "id": "8da4f5eb",
   "metadata": {},
   "source": [
    "Credits - https://www.udemy.com/course/machine-learning-artificial-intelligence-essentials/"
   ]
  }
 ],
 "metadata": {
  "kernelspec": {
   "display_name": "Python 3 (ipykernel)",
   "language": "python",
   "name": "python3"
  },
  "language_info": {
   "codemirror_mode": {
    "name": "ipython",
    "version": 3
   },
   "file_extension": ".py",
   "mimetype": "text/x-python",
   "name": "python",
   "nbconvert_exporter": "python",
   "pygments_lexer": "ipython3",
   "version": "3.9.15"
  }
 },
 "nbformat": 4,
 "nbformat_minor": 5
}
